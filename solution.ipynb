{
 "cells": [
  {
   "cell_type": "code",
   "execution_count": null,
   "metadata": {},
   "outputs": [],
   "source": [
    "import os\n",
    "\n",
    "import pinecone\n",
    "from dotenv import load_dotenv\n",
    "from langchain.agents import AgentType\n",
    "from langchain.chains import RetrievalQA\n",
    "from langchain.chat_models import ChatOpenAI\n",
    "from langchain.document_loaders import PythonLoader\n",
    "from langchain.embeddings.openai import OpenAIEmbeddings\n",
    "from langchain.text_splitter import Language, RecursiveCharacterTextSplitter\n",
    "from langchain.vectorstores import Pinecone\n",
    "from langchain_experimental.agents.agent_toolkits import create_python_agent\n",
    "from langchain_experimental.tools import PythonREPLTool\n",
    "\n",
    "load_dotenv()\n",
    "\n",
    "\n",
    "# initialize Vector DB\n",
    "pinecone.init(\n",
    "    api_key=os.environ.get(\"PINECONE_API_KEY\"),\n",
    "    environment=os.environ.get(\"PINECONE_ENV\"),\n",
    ")\n",
    "\n",
    "# set Index Params\n",
    "# note: dimension of the index is found from the embeddings model\n",
    "# site: https://platform.openai.com/docs/guides/embeddings/what-are-embeddings\n",
    "# model: text-embedding-ada-002\n",
    "\n",
    "index_name = \"ai-developer\"\n",
    "index_dim = 1536\n",
    "index_metric = \"euclidean\"\n",
    "\n",
    "if index_name in pinecone.list_indexes():\n",
    "    index = pinecone.Index(index_name)\n",
    "\n",
    "    # if the vectors are present in index - clean up & create a new index\n",
    "    # no better way due to free tier\n",
    "    if index.describe_index_stats()[\"total_vector_count\"] > 0:\n",
    "        pinecone.delete_index(name=index_name)\n",
    "        pinecone.create_index(name=index_name, dimension=index_dim, metric=index_metric)\n",
    "    else:\n",
    "        pass\n",
    "else:\n",
    "    # if index not present - create one\n",
    "    pinecone.create_index(name=index_name, dimension=index_dim, metric=index_metric)"
   ]
  },
  {
   "cell_type": "code",
   "execution_count": null,
   "metadata": {},
   "outputs": [],
   "source": []
  }
 ],
 "metadata": {
  "language_info": {
   "name": "python"
  }
 },
 "nbformat": 4,
 "nbformat_minor": 2
}
